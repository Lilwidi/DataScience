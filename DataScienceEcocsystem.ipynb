{
 "cells": [
  {
   "cell_type": "markdown",
   "id": "d553ff06-e13f-4290-a21d-b7b42b0fba42",
   "metadata": {},
   "source": [
    "# Data science Tools and Ecosystem"
   ]
  },
  {
   "cell_type": "markdown",
   "id": "96353d4c-8313-4f8a-985b-4d5de593f593",
   "metadata": {},
   "source": [
    "In this notebook, Data Science Tools and Ecosystem are summarized"
   ]
  },
  {
   "cell_type": "markdown",
   "id": "2f3da271-a41f-472e-b84d-632da964417c",
   "metadata": {},
   "source": [
    "Some of the popular languages that Data Scientists use are\n",
    "1. numpy\n",
    "2. matplotlib\n",
    "3. scirkit"
   ]
  },
  {
   "cell_type": "markdown",
   "id": "20227ceb-4ba3-4c8d-9482-25391e62ac1b",
   "metadata": {},
   "source": [
    "## Data Science Tools"
   ]
  },
  {
   "cell_type": "markdown",
   "id": "a89368d5-2bfb-4f3c-bf71-9e0a8b7d8bcb",
   "metadata": {},
   "source": [
    "JupiterLab"
   ]
  },
  {
   "cell_type": "markdown",
   "id": "84a4bec5-139c-44b3-a316-42d7a70a5df3",
   "metadata": {},
   "source": [
    "jupiter notebook"
   ]
  },
  {
   "cell_type": "markdown",
   "id": "38d250ce-a943-4af4-8396-da65bcaf051f",
   "metadata": {},
   "source": [
    "Google Colab"
   ]
  },
  {
   "cell_type": "markdown",
   "id": "32498e4e-1d09-498b-a2f0-61f17a721e9a",
   "metadata": {},
   "source": [
    "### Below are a few examples of evaluating arithmetic expressions in Python"
   ]
  },
  {
   "cell_type": "code",
   "execution_count": 1,
   "id": "3addc24c-ff71-42ec-9e05-24605f721fd7",
   "metadata": {
    "tags": []
   },
   "outputs": [
    {
     "data": {
      "text/plain": [
       "17"
      ]
     },
     "execution_count": 1,
     "metadata": {},
     "output_type": "execute_result"
    }
   ],
   "source": [
    "(3*4)+5\n",
    "# This a simple arithmetic expression to mutiply then add integers"
   ]
  },
  {
   "cell_type": "markdown",
   "id": "bb9e2d3a-c086-4b8f-91ea-5b6573d6a8b6",
   "metadata": {
    "tags": []
   },
   "source": [
    "round(200/60,2)\n",
    "#This will convert 200 minutes to hours by diving by 60"
   ]
  },
  {
   "cell_type": "code",
   "execution_count": 5,
   "id": "634286f2-73a7-4363-8bed-947fb781299a",
   "metadata": {
    "tags": []
   },
   "outputs": [
    {
     "data": {
      "text/plain": [
       "3.33"
      ]
     },
     "execution_count": 5,
     "metadata": {},
     "output_type": "execute_result"
    }
   ],
   "source": [
    "round(200/60,2)\n",
    "#This will convert 200 minutes to hours by diving by 60"
   ]
  },
  {
   "cell_type": "markdown",
   "id": "11f65c52-7610-4711-882d-c50e9540adb3",
   "metadata": {},
   "source": [
    "**Objectives**\n",
    "- data science tools\n",
    "- data science languages\n",
    "- data science objectives"
   ]
  },
  {
   "cell_type": "markdown",
   "id": "e838bf68-063b-4d79-9834-5db496724d47",
   "metadata": {},
   "source": [
    "## AUTHOR\n",
    "AUDU STEPHEN"
   ]
  },
  {
   "cell_type": "code",
   "execution_count": null,
   "id": "44dd79e3-c1f6-44f2-bd3a-19d4791e155c",
   "metadata": {},
   "outputs": [],
   "source": []
  }
 ],
 "metadata": {
  "kernelspec": {
   "display_name": "Python",
   "language": "python",
   "name": "conda-env-python-py"
  },
  "language_info": {
   "codemirror_mode": {
    "name": "ipython",
    "version": 3
   },
   "file_extension": ".py",
   "mimetype": "text/x-python",
   "name": "python",
   "nbconvert_exporter": "python",
   "pygments_lexer": "ipython3",
   "version": "3.7.12"
  }
 },
 "nbformat": 4,
 "nbformat_minor": 5
}
